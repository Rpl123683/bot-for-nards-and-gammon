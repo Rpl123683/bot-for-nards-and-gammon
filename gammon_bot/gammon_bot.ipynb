{
 "cells": [
  {
   "cell_type": "code",
   "execution_count": null,
   "metadata": {
    "scrolled": true
   },
   "outputs": [
    {
     "name": "stdout",
     "output_type": "stream",
     "text": [
      "INFO:tensorflow:Summary name layer1/weight:0 is illegal; using layer1/weight_0 instead.\n",
      "INFO:tensorflow:Summary name layer1/weight:0/gradients/grad is illegal; using layer1/weight_0/gradients/grad instead.\n",
      "INFO:tensorflow:Summary name layer1/bias:0 is illegal; using layer1/bias_0 instead.\n",
      "INFO:tensorflow:Summary name layer1/bias:0/gradients/grad is illegal; using layer1/bias_0/gradients/grad instead.\n",
      "INFO:tensorflow:Summary name layer2/weight:0 is illegal; using layer2/weight_0 instead.\n",
      "INFO:tensorflow:Summary name layer2/weight:0/gradients/grad is illegal; using layer2/weight_0/gradients/grad instead.\n",
      "INFO:tensorflow:Summary name layer2/bias:0 is illegal; using layer2/bias_0 instead.\n",
      "INFO:tensorflow:Summary name layer2/bias:0/gradients/grad is illegal; using layer2/bias_0/gradients/grad instead.\n",
      "INFO:tensorflow:Summary name layer3/weight:0 is illegal; using layer3/weight_0 instead.\n",
      "INFO:tensorflow:Summary name layer3/weight:0/gradients/grad is illegal; using layer3/weight_0/gradients/grad instead.\n",
      "INFO:tensorflow:Summary name layer3/bias:0 is illegal; using layer3/bias_0 instead.\n",
      "INFO:tensorflow:Summary name layer3/bias:0/gradients/grad is illegal; using layer3/bias_0/gradients/grad instead.\n",
      "INFO:tensorflow:Summary name layer4/weight:0 is illegal; using layer4/weight_0 instead.\n",
      "INFO:tensorflow:Summary name layer4/weight:0/gradients/grad is illegal; using layer4/weight_0/gradients/grad instead.\n",
      "INFO:tensorflow:Summary name layer4/bias:0 is illegal; using layer4/bias_0 instead.\n",
      "INFO:tensorflow:Summary name layer4/bias:0/gradients/grad is illegal; using layer4/bias_0/gradients/grad instead.\n",
      "INFO:tensorflow:Summary name layer5/weight:0 is illegal; using layer5/weight_0 instead.\n",
      "INFO:tensorflow:Summary name layer5/weight:0/gradients/grad is illegal; using layer5/weight_0/gradients/grad instead.\n",
      "INFO:tensorflow:Summary name layer5/bias:0 is illegal; using layer5/bias_0 instead.\n",
      "INFO:tensorflow:Summary name layer5/bias:0/gradients/grad is illegal; using layer5/bias_0/gradients/grad instead.\n",
      "INFO:tensorflow:Summary name layer1/weight:0/traces is illegal; using layer1/weight_0/traces instead.\n",
      "INFO:tensorflow:Summary name layer1/weight:0/gradients/trace is illegal; using layer1/weight_0/gradients/trace instead.\n",
      "INFO:tensorflow:Summary name layer1/bias:0/traces is illegal; using layer1/bias_0/traces instead.\n",
      "INFO:tensorflow:Summary name layer1/bias:0/gradients/trace is illegal; using layer1/bias_0/gradients/trace instead.\n",
      "INFO:tensorflow:Summary name layer2/weight:0/traces is illegal; using layer2/weight_0/traces instead.\n",
      "INFO:tensorflow:Summary name layer2/weight:0/gradients/trace is illegal; using layer2/weight_0/gradients/trace instead.\n",
      "INFO:tensorflow:Summary name layer2/bias:0/traces is illegal; using layer2/bias_0/traces instead.\n",
      "INFO:tensorflow:Summary name layer2/bias:0/gradients/trace is illegal; using layer2/bias_0/gradients/trace instead.\n",
      "INFO:tensorflow:Summary name layer3/weight:0/traces is illegal; using layer3/weight_0/traces instead.\n",
      "INFO:tensorflow:Summary name layer3/weight:0/gradients/trace is illegal; using layer3/weight_0/gradients/trace instead.\n",
      "INFO:tensorflow:Summary name layer3/bias:0/traces is illegal; using layer3/bias_0/traces instead.\n",
      "INFO:tensorflow:Summary name layer3/bias:0/gradients/trace is illegal; using layer3/bias_0/gradients/trace instead.\n",
      "INFO:tensorflow:Summary name layer4/weight:0/traces is illegal; using layer4/weight_0/traces instead.\n",
      "INFO:tensorflow:Summary name layer4/weight:0/gradients/trace is illegal; using layer4/weight_0/gradients/trace instead.\n",
      "INFO:tensorflow:Summary name layer4/bias:0/traces is illegal; using layer4/bias_0/traces instead.\n",
      "INFO:tensorflow:Summary name layer4/bias:0/gradients/trace is illegal; using layer4/bias_0/gradients/trace instead.\n",
      "INFO:tensorflow:Summary name layer5/weight:0/traces is illegal; using layer5/weight_0/traces instead.\n",
      "INFO:tensorflow:Summary name layer5/weight:0/gradients/trace is illegal; using layer5/weight_0/gradients/trace instead.\n",
      "INFO:tensorflow:Summary name layer5/bias:0/traces is illegal; using layer5/bias_0/traces instead.\n",
      "INFO:tensorflow:Summary name layer5/bias:0/gradients/trace is illegal; using layer5/bias_0/gradients/trace instead.\n",
      "Restoring checkpoint: checkpoints/checkpoint-47390540\n",
      "INFO:tensorflow:Restoring parameters from checkpoints/checkpoint-47390540\n"
     ]
    },
    {
     "name": "stderr",
     "output_type": "stream",
     "text": [
      "Bar desc:   2%|▏         | 4899/200000 [3:48:36<151:44:17,  2.80s/it]"
     ]
    }
   ],
   "source": [
    "import os\n",
    "import tensorflow as tf\n",
    "\n",
    "from model import Model\n",
    "\n",
    "flags = tf.app.flags\n",
    "FLAGS = flags.FLAGS\n",
    "\n",
    "\n",
    "flags.DEFINE_boolean('test', False, 'If true, test against a random strategy.')\n",
    "flags.DEFINE_boolean('play', False, 'If true, play against a trained TD-Gammon strategy.')\n",
    "flags.DEFINE_boolean('restore', True, 'If true, restore a checkpoint before training.')\n",
    "\n",
    "model_path = os.environ.get('MODEL_PATH', 'models/')\n",
    "summary_path = os.environ.get('SUMMARY_PATH', 'summaries/')\n",
    "checkpoint_path = os.environ.get('CHECKPOINT_PATH', 'checkpoints/')\n",
    "\n",
    "if not os.path.exists(model_path):\n",
    "    os.makedirs(model_path)\n",
    "\n",
    "if not os.path.exists(checkpoint_path):\n",
    "    os.makedirs(checkpoint_path)\n",
    "\n",
    "if not os.path.exists(summary_path):\n",
    "    os.makedirs(summary_path)\n",
    "\n",
    "if __name__ == '__main__':\n",
    "    graph = tf.Graph()\n",
    "    gpu_options = tf.GPUOptions(per_process_gpu_memory_fraction=0.4)\n",
    "    config = tf.ConfigProto(gpu_options=gpu_options)\n",
    "    config.intra_op_parallelism_threads = 10\n",
    "    config.inter_op_parallelism_threads = 10\n",
    "    sess = tf.Session(graph=graph, config=config)\n",
    "    with sess.as_default(), graph.as_default():\n",
    "        model = Model(sess, model_path, summary_path, checkpoint_path, restore=FLAGS.restore)\n",
    "        if FLAGS.test:\n",
    "            #model.test(episodes=1000)\n",
    "            model.test(episodes=500,mode=0)\n",
    "            #model.test(episodes=100,mode=1)\n",
    "        elif FLAGS.play:\n",
    "            model.play()\n",
    "        else:\n",
    "            model.train()"
   ]
  },
  {
   "cell_type": "code",
   "execution_count": 2,
   "metadata": {
    "collapsed": true
   },
   "outputs": [],
   "source": [
    "import numpy as np"
   ]
  },
  {
   "cell_type": "code",
   "execution_count": 5,
   "metadata": {},
   "outputs": [
    {
     "ename": "TypeError",
     "evalue": "unsupported operand type(s) for -: 'float' and 'list'",
     "output_type": "error",
     "traceback": [
      "\u001b[0;31m\u001b[0m",
      "\u001b[0;31mTypeError\u001b[0mTraceback (most recent call last)",
      "\u001b[0;32m<ipython-input-5-c668577d4b3c>\u001b[0m in \u001b[0;36m<module>\u001b[0;34m()\u001b[0m\n\u001b[0;32m----> 1\u001b[0;31m \u001b[0;36m1.\u001b[0m\u001b[0;34m-\u001b[0m\u001b[0;34m[\u001b[0m\u001b[0;34m[\u001b[0m \u001b[0;36m0.53678566\u001b[0m\u001b[0;34m]\u001b[0m\u001b[0;34m]\u001b[0m\u001b[0;34m\u001b[0m\u001b[0m\n\u001b[0m",
      "\u001b[0;31mTypeError\u001b[0m: unsupported operand type(s) for -: 'float' and 'list'"
     ]
    }
   ],
   "source": [
    "1.-[[ 0.53678566]]"
   ]
  },
  {
   "cell_type": "code",
   "execution_count": null,
   "metadata": {
    "collapsed": true
   },
   "outputs": [],
   "source": [
    "import numpy as np\n",
    "with sess.as_default():\n",
    "    w1=model.l1_W.eval()\n",
    "    b1=model.l1_b.eval()\n",
    "    w2=model.l2_W.eval()\n",
    "    b2=model.l2_b.eval()\n",
    "np.savetxt(\"w1.txt\", w1)\n",
    "np.savetxt(\"w2.txt\", w2)\n",
    "np.savetxt(\"b1.txt\", b1)\n",
    "np.savetxt(\"b2.txt\", b2)\n",
    "w1"
   ]
  },
  {
   "cell_type": "code",
   "execution_count": null,
   "metadata": {
    "collapsed": true
   },
   "outputs": [],
   "source": [
    "map(str,model.turn_player)"
   ]
  },
  {
   "cell_type": "code",
   "execution_count": null,
   "metadata": {
    "collapsed": true
   },
   "outputs": [],
   "source": [
    "model.gone_states\n",
    "model.first_player\n",
    "model."
   ]
  },
  {
   "cell_type": "code",
   "execution_count": null,
   "metadata": {
    "collapsed": true
   },
   "outputs": [],
   "source": [
    "np.savetxt(\"roll_history.txt\",model.roll_history)\n",
    "np.savetxt(\"possible_moves_history.txt\",np.asanyarray(model.possible_moves_history))\n",
    "np.savetxt(\"chosen_move.txt\",str(model.choosen_move))"
   ]
  },
  {
   "cell_type": "code",
   "execution_count": null,
   "metadata": {
    "collapsed": true
   },
   "outputs": [],
   "source": [
    "import json\n",
    "with open('turn_player.txt', 'w') as outfile:\n",
    "    json.dump(map(str,model.turn_player), outfile)"
   ]
  },
  {
   "cell_type": "code",
   "execution_count": null,
   "metadata": {
    "collapsed": true
   },
   "outputs": [],
   "source": [
    "with open('roll_history.txt', 'w') as outfile:\n",
    "    json.dump(model.roll_history, outfile)"
   ]
  },
  {
   "cell_type": "code",
   "execution_count": null,
   "metadata": {
    "collapsed": true
   },
   "outputs": [],
   "source": [
    "with open('possible_moves.txt', 'w') as outfile:\n",
    "    json.dump(map(str,model.possible_moves_history), outfile)"
   ]
  },
  {
   "cell_type": "code",
   "execution_count": null,
   "metadata": {
    "collapsed": true
   },
   "outputs": [],
   "source": [
    "with open('choosen_move.txt', 'w') as outfile:\n",
    "    json.dump(model.choosen_move, outfile)"
   ]
  },
  {
   "cell_type": "code",
   "execution_count": null,
   "metadata": {
    "collapsed": true
   },
   "outputs": [],
   "source": [
    "with open('states_gone.txt', 'w') as outfile:\n",
    "    json.dump(map(str,model.gone_states), outfile)"
   ]
  },
  {
   "cell_type": "code",
   "execution_count": null,
   "metadata": {
    "collapsed": true
   },
   "outputs": [],
   "source": [
    "import pickle\n",
    "l = [1,2,3,4]\n",
    "with open(\"possible_moves_history.txt\", \"wb\") as fp:   #Pickling\n",
    "    pickle.dump(model.possible_moves_history, fp)"
   ]
  },
  {
   "cell_type": "code",
   "execution_count": null,
   "metadata": {
    "collapsed": true
   },
   "outputs": [],
   "source": [
    "with open(\"possible_moves_history.txt\", \"wb\") as fp:   #Pickling\n",
    "    pickle.dump(model.choosen_move, fp)"
   ]
  },
  {
   "cell_type": "code",
   "execution_count": null,
   "metadata": {
    "collapsed": true
   },
   "outputs": [],
   "source": [
    "pos_mov=map(str,model.possible_moves_history)\n",
    "#chos_mov=map(list,model.choosen_move)"
   ]
  },
  {
   "cell_type": "code",
   "execution_count": null,
   "metadata": {
    "collapsed": true
   },
   "outputs": [],
   "source": [
    "str(model.possible_moves_history)"
   ]
  },
  {
   "cell_type": "code",
   "execution_count": null,
   "metadata": {
    "collapsed": true
   },
   "outputs": [],
   "source": [
    "!pip install tensorflow-gpu"
   ]
  },
  {
   "cell_type": "code",
   "execution_count": null,
   "metadata": {
    "collapsed": true
   },
   "outputs": [],
   "source": []
  }
 ],
 "metadata": {
  "kernelspec": {
   "display_name": "Python 2",
   "language": "python",
   "name": "python2"
  },
  "language_info": {
   "codemirror_mode": {
    "name": "ipython",
    "version": 2
   },
   "file_extension": ".py",
   "mimetype": "text/x-python",
   "name": "python",
   "nbconvert_exporter": "python",
   "pygments_lexer": "ipython2",
   "version": "2.7.14"
  }
 },
 "nbformat": 4,
 "nbformat_minor": 2
}
