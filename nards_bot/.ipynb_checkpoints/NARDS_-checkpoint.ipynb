{
 "cells": [
  {
   "cell_type": "code",
   "execution_count": null,
   "metadata": {
    "scrolled": true
   },
   "outputs": [
    {
     "name": "stdout",
     "output_type": "stream",
     "text": [
      "INFO:tensorflow:Summary name layer1/weight:0 is illegal; using layer1/weight_0 instead.\n",
      "INFO:tensorflow:Summary name layer1/weight:0/gradients/grad is illegal; using layer1/weight_0/gradients/grad instead.\n",
      "INFO:tensorflow:Summary name layer1/bias:0 is illegal; using layer1/bias_0 instead.\n",
      "INFO:tensorflow:Summary name layer1/bias:0/gradients/grad is illegal; using layer1/bias_0/gradients/grad instead.\n",
      "INFO:tensorflow:Summary name layer5/weight:0 is illegal; using layer5/weight_0 instead.\n",
      "INFO:tensorflow:Summary name layer5/weight:0/gradients/grad is illegal; using layer5/weight_0/gradients/grad instead.\n",
      "INFO:tensorflow:Summary name layer5/bias:0 is illegal; using layer5/bias_0 instead.\n",
      "INFO:tensorflow:Summary name layer5/bias:0/gradients/grad is illegal; using layer5/bias_0/gradients/grad instead.\n",
      "INFO:tensorflow:Summary name layer1/weight:0/traces is illegal; using layer1/weight_0/traces instead.\n",
      "INFO:tensorflow:Summary name layer1/weight:0/gradients/trace is illegal; using layer1/weight_0/gradients/trace instead.\n",
      "INFO:tensorflow:Summary name layer1/bias:0/traces is illegal; using layer1/bias_0/traces instead.\n",
      "INFO:tensorflow:Summary name layer1/bias:0/gradients/trace is illegal; using layer1/bias_0/gradients/trace instead.\n",
      "INFO:tensorflow:Summary name layer5/weight:0/traces is illegal; using layer5/weight_0/traces instead.\n",
      "INFO:tensorflow:Summary name layer5/weight:0/gradients/trace is illegal; using layer5/weight_0/gradients/trace instead.\n",
      "INFO:tensorflow:Summary name layer5/bias:0/traces is illegal; using layer5/bias_0/traces instead.\n",
      "INFO:tensorflow:Summary name layer5/bias:0/gradients/trace is illegal; using layer5/bias_0/gradients/trace instead.\n"
     ]
    },
    {
     "name": "stderr",
     "output_type": "stream",
     "text": [
      "Bar desc:   0%|          | 9/200000 [00:19<121:52:09,  2.19s/it]"
     ]
    }
   ],
   "source": [
    "import os\n",
    "import tensorflow as tf\n",
    "\n",
    "from model import Model\n",
    "\n",
    "flags = tf.app.flags\n",
    "FLAGS = flags.FLAGS\n",
    "\n",
    "\n",
    "flags.DEFINE_boolean('test', False, 'If true, test against a random strategy.')\n",
    "flags.DEFINE_boolean('play', False, 'If true, play against a trained TD-Gammon strategy.')\n",
    "flags.DEFINE_boolean('restore', True, 'If true, restore a checkpoint before training.')\n",
    "\n",
    "model_path = os.environ.get('MODEL_PATH', 'models/')\n",
    "summary_path = os.environ.get('SUMMARY_PATH', 'summaries/')\n",
    "\n",
    "\n",
    "checkpoint_path = os.environ.get('CHECKPOINT_PATH', 'checkpoints/')\n",
    "\n",
    "if not os.path.exists(model_path):\n",
    "    os.makedirs(model_path)\n",
    "\n",
    "if not os.path.exists(checkpoint_path):\n",
    "    os.makedirs(checkpoint_path)\n",
    "\n",
    "if not os.path.exists(summary_path):\n",
    "    os.makedirs(summary_path)\n",
    "\n",
    "if __name__ == '__main__':\n",
    "    graph = tf.Graph()\n",
    "    gpu_options = tf.GPUOptions(per_process_gpu_memory_fraction=0.3)\n",
    "    config = tf.ConfigProto(gpu_options=gpu_options)\n",
    "    config.intra_op_parallelism_threads = 10\n",
    "    config.inter_op_parallelism_threads = 10\n",
    "    sess = tf.Session(graph=graph, config=config)\n",
    "    with sess.as_default(), graph.as_default():\n",
    "        model = Model(sess, model_path, summary_path, checkpoint_path, restore=FLAGS.restore)\n",
    "        if FLAGS.test:\n",
    "            #model.test(episodes=1000)\n",
    "            model.test(episodes=200,mode=0)\n",
    "            #model.test(episodes=1000,mode=0)\n",
    "        elif FLAGS.play:\n",
    "            model.play()\n",
    "        else:\n",
    "            model.train()"
   ]
  },
  {
   "cell_type": "code",
   "execution_count": 16,
   "metadata": {},
   "outputs": [
    {
     "data": {
      "text/plain": [
       "0.07344553190403769"
      ]
     },
     "execution_count": 16,
     "metadata": {},
     "output_type": "execute_result"
    }
   ],
   "source": [
    "import numpy as np\n",
    "np.random.rand()"
   ]
  },
  {
   "cell_type": "code",
   "execution_count": null,
   "metadata": {
    "collapsed": true
   },
   "outputs": [],
   "source": [
    "import numpy as np\n",
    "with sess.as_default():\n",
    "    w1=model.l1_W.eval()\n",
    "    b1=model.l1_b.eval()\n",
    "    w2=model.l2_W.eval()\n",
    "    b2=model.l2_b.eval()\n",
    "np.savetxt(\"w1.txt\", w1)\n",
    "np.savetxt(\"w2.txt\", w2)\n",
    "np.savetxt(\"b1.txt\", b1)\n",
    "np.savetxt(\"b2.txt\", b2)\n",
    "w1"
   ]
  },
  {
   "cell_type": "code",
   "execution_count": 28,
   "metadata": {},
   "outputs": [
    {
     "data": {
      "text/plain": [
       "{((0, 2), (0, 2), (0, 2), (0, 2)),\n",
       " ((0, 2), (0, 2), (0, 2), (2, 4)),\n",
       " ((0, 2), (0, 2), (0, 2), (3, 5)),\n",
       " ((0, 2), (0, 2), (2, 4), (0, 2)),\n",
       " ((0, 2), (0, 2), (2, 4), (2, 4)),\n",
       " ((0, 2), (0, 2), (2, 4), (3, 5)),\n",
       " ((0, 2), (0, 2), (2, 4), (4, 6)),\n",
       " ((0, 2), (0, 2), (3, 5), (0, 2)),\n",
       " ((0, 2), (0, 2), (3, 5), (2, 4)),\n",
       " ((0, 2), (0, 2), (3, 5), (5, 7)),\n",
       " ((0, 2), (2, 4), (0, 2), (0, 2)),\n",
       " ((0, 2), (2, 4), (0, 2), (2, 4)),\n",
       " ((0, 2), (2, 4), (0, 2), (3, 5)),\n",
       " ((0, 2), (2, 4), (0, 2), (4, 6)),\n",
       " ((0, 2), (2, 4), (3, 5), (0, 2)),\n",
       " ((0, 2), (2, 4), (3, 5), (4, 6)),\n",
       " ((0, 2), (2, 4), (3, 5), (5, 7)),\n",
       " ((0, 2), (2, 4), (4, 6), (0, 2)),\n",
       " ((0, 2), (2, 4), (4, 6), (3, 5)),\n",
       " ((0, 2), (2, 4), (4, 6), (6, 8)),\n",
       " ((0, 2), (3, 5), (0, 2), (0, 2)),\n",
       " ((0, 2), (3, 5), (0, 2), (2, 4)),\n",
       " ((0, 2), (3, 5), (0, 2), (5, 7)),\n",
       " ((0, 2), (3, 5), (2, 4), (0, 2)),\n",
       " ((0, 2), (3, 5), (2, 4), (4, 6)),\n",
       " ((0, 2), (3, 5), (2, 4), (5, 7)),\n",
       " ((0, 2), (3, 5), (5, 7), (0, 2)),\n",
       " ((0, 2), (3, 5), (5, 7), (2, 4)),\n",
       " ((0, 2), (3, 5), (5, 7), (7, 9)),\n",
       " ((3, 5), (0, 2), (0, 2), (0, 2)),\n",
       " ((3, 5), (0, 2), (0, 2), (2, 4)),\n",
       " ((3, 5), (0, 2), (0, 2), (5, 7)),\n",
       " ((3, 5), (0, 2), (2, 4), (0, 2)),\n",
       " ((3, 5), (0, 2), (2, 4), (4, 6)),\n",
       " ((3, 5), (0, 2), (2, 4), (5, 7)),\n",
       " ((3, 5), (0, 2), (5, 7), (0, 2)),\n",
       " ((3, 5), (0, 2), (5, 7), (2, 4)),\n",
       " ((3, 5), (0, 2), (5, 7), (7, 9)),\n",
       " ((3, 5), (5, 7), (0, 2), (0, 2)),\n",
       " ((3, 5), (5, 7), (0, 2), (2, 4)),\n",
       " ((3, 5), (5, 7), (0, 2), (7, 9)),\n",
       " ((3, 5), (5, 7), (7, 9), (0, 2)),\n",
       " ((3, 5), (5, 7), (7, 9), (9, 11))}"
      ]
     },
     "execution_count": 28,
     "metadata": {},
     "output_type": "execute_result"
    }
   ],
   "source": [
    "t"
   ]
  },
  {
   "cell_type": "code",
   "execution_count": 27,
   "metadata": {
    "collapsed": true
   },
   "outputs": [],
   "source": [
    "t=set([((3, 5), (0, 2), (5, 7), (0, 2)), ((3, 5), (0, 2), (5, 7), (2, 4)), ((0, 2), (0, 2), (3, 5), (2, 4)), ((0, 2), (2, 4), (0, 2), (3, 5)), ((0, 2), (0, 2), (2, 4), (2, 4)), ((0, 2), (3, 5), (0, 2), (2, 4)), ((0, 2), (2, 4), (3, 5), (5, 7)), ((0, 2), (2, 4), (0, 2), (0, 2)), ((3, 5), (0, 2), (2, 4), (4, 6)), ((0, 2), (0, 2), (0, 2), (2, 4)), ((0, 2), (3, 5), (2, 4), (5, 7)), ((0, 2), (3, 5), (5, 7), (7, 9)), ((0, 2), (2, 4), (0, 2), (2, 4)), ((0, 2), (0, 2), (3, 5), (0, 2)), ((3, 5), (5, 7), (0, 2), (7, 9)), ((3, 5), (5, 7), (0, 2), (2, 4)), ((0, 2), (3, 5), (5, 7), (0, 2)), ((3, 5), (5, 7), (7, 9), (0, 2)), ((0, 2), (0, 2), (0, 2), (0, 2)), ((3, 5), (5, 7), (7, 9), (9, 11)), ((0, 2), (3, 5), (2, 4), (4, 6)), ((3, 5), (5, 7), (0, 2), (0, 2)), ((0, 2), (2, 4), (4, 6), (0, 2)), ((3, 5), (0, 2), (0, 2), (2, 4)), ((3, 5), (0, 2), (2, 4), (5, 7)), ((0, 2), (3, 5), (5, 7), (2, 4)), ((0, 2), (0, 2), (2, 4), (0, 2)), ((0, 2), (0, 2), (2, 4), (4, 6)), ((0, 2), (2, 4), (0, 2), (4, 6)), ((0, 2), (2, 4), (3, 5), (0, 2)), ((0, 2), (3, 5), (0, 2), (5, 7)), ((0, 2), (0, 2), (0, 2), (3, 5)), ((3, 5), (0, 2), (2, 4), (0, 2)), ((3, 5), (0, 2), (0, 2), (5, 7)), ((0, 2), (3, 5), (0, 2), (0, 2)), ((0, 2), (3, 5), (2, 4), (0, 2)), ((0, 2), (2, 4), (4, 6), (6, 8)), ((0, 2), (0, 2), (2, 4), (3, 5)), ((3, 5), (0, 2), (5, 7), (7, 9)), ((0, 2), (0, 2), (3, 5), (5, 7)), ((0, 2), (2, 4), (4, 6), (3, 5)), ((3, 5), (0, 2), (0, 2), (0, 2)), ((0, 2), (2, 4), (3, 5), (4, 6))])"
   ]
  },
  {
   "cell_type": "code",
   "execution_count": 29,
   "metadata": {
    "collapsed": true
   },
   "outputs": [],
   "source": [
    "def clean(moves):\n",
    "    dlist=[]\n",
    "    for i in moves:\n",
    "        zeros_counter=0\n",
    "        for j in i:\n",
    "            if j[0]==0:\n",
    "                zeros_counter+=1\n",
    "            if zeros_counter>=2:\n",
    "                dlist.append(i)\n",
    "    for i in dlist:\n",
    "        moves.discard(i)\n",
    "    return moves\n",
    "            "
   ]
  },
  {
   "cell_type": "code",
   "execution_count": 34,
   "metadata": {},
   "outputs": [
    {
     "data": {
      "text/plain": [
       "True"
      ]
     },
     "execution_count": 34,
     "metadata": {},
     "output_type": "execute_result"
    }
   ],
   "source": [
    "t in [(3,3),(4,4),(6,6)]"
   ]
  },
  {
   "cell_type": "code",
   "execution_count": 41,
   "metadata": {},
   "outputs": [
    {
     "data": {
      "text/plain": [
       "False"
      ]
     },
     "execution_count": 41,
     "metadata": {},
     "output_type": "execute_result"
    }
   ],
   "source": [
    "before=True\n",
    "after= False\n",
    "before&after"
   ]
  },
  {
   "cell_type": "code",
   "execution_count": 33,
   "metadata": {},
   "outputs": [
    {
     "name": "stdout",
     "output_type": "stream",
     "text": [
      "(4, 4)\n"
     ]
    }
   ],
   "source": [
    "import random\n",
    "t=(random.randint(1, 6), random.randint(1, 6)) \n",
    "t in [(3,3),(4,4),(6,6)]\n",
    "print t"
   ]
  },
  {
   "cell_type": "code",
   "execution_count": 39,
   "metadata": {},
   "outputs": [
    {
     "name": "stdout",
     "output_type": "stream",
     "text": [
      "9\n",
      "8\n",
      "7\n",
      "6\n",
      "5\n",
      "4\n",
      "3\n",
      "2\n",
      "1\n",
      "0\n"
     ]
    }
   ],
   "source": [
    "for i in range(10)[::-1]:\n",
    "    print i"
   ]
  },
  {
   "cell_type": "code",
   "execution_count": 33,
   "metadata": {
    "collapsed": true
   },
   "outputs": [],
   "source": [
    "t=[[\"x\",\"x\",\"x\"],['x'],[\"x\",\"x\"],['x'],[\"x\"]]"
   ]
  },
  {
   "cell_type": "code",
   "execution_count": 34,
   "metadata": {},
   "outputs": [
    {
     "data": {
      "text/plain": [
       "\"[['x', 'x', 'x'], ['x'], ['x', 'x'], ['x'], ['x']]\""
      ]
     },
     "execution_count": 34,
     "metadata": {},
     "output_type": "execute_result"
    }
   ],
   "source": [
    "str(t)"
   ]
  },
  {
   "cell_type": "code",
   "execution_count": 35,
   "metadata": {},
   "outputs": [
    {
     "data": {
      "text/plain": [
       "False"
      ]
     },
     "execution_count": 35,
     "metadata": {},
     "output_type": "execute_result"
    }
   ],
   "source": [
    "(\"[]\" in str(t)) or (\"o\" in str(t))"
   ]
  },
  {
   "cell_type": "code",
   "execution_count": null,
   "metadata": {
    "collapsed": true
   },
   "outputs": [],
   "source": [
    "np.savetxt(\"roll_history.txt\",model.roll_history)\n",
    "np.savetxt(\"possible_moves_history.txt\",np.asanyarray(model.possible_moves_history))\n",
    "np.savetxt(\"chosen_move.txt\",str(model.choosen_move))"
   ]
  },
  {
   "cell_type": "code",
   "execution_count": null,
   "metadata": {
    "collapsed": true
   },
   "outputs": [],
   "source": [
    "import json\n",
    "with open('turn_player.txt', 'w') as outfile:\n",
    "    json.dump(map(str,model.turn_player), outfile)"
   ]
  },
  {
   "cell_type": "code",
   "execution_count": null,
   "metadata": {
    "collapsed": true
   },
   "outputs": [],
   "source": [
    "with open('roll_history.txt', 'w') as outfile:\n",
    "    json.dump(model.roll_history, outfile)"
   ]
  },
  {
   "cell_type": "code",
   "execution_count": null,
   "metadata": {
    "collapsed": true
   },
   "outputs": [],
   "source": [
    "with open('possible_moves.txt', 'w') as outfile:\n",
    "    json.dump(map(str,model.possible_moves_history), outfile)"
   ]
  },
  {
   "cell_type": "code",
   "execution_count": null,
   "metadata": {
    "collapsed": true
   },
   "outputs": [],
   "source": [
    "with open('choosen_move.txt', 'w') as outfile:\n",
    "    json.dump(model.choosen_move, outfile)"
   ]
  },
  {
   "cell_type": "code",
   "execution_count": null,
   "metadata": {
    "collapsed": true
   },
   "outputs": [],
   "source": [
    "with open('states_gone.txt', 'w') as outfile:\n",
    "    json.dump(map(str,model.gone_states), outfile)"
   ]
  },
  {
   "cell_type": "code",
   "execution_count": null,
   "metadata": {
    "collapsed": true
   },
   "outputs": [],
   "source": [
    "import pickle\n",
    "l = [1,2,3,4]\n",
    "with open(\"possible_moves_history.txt\", \"wb\") as fp:   #Pickling\n",
    "    pickle.dump(model.possible_moves_history, fp)"
   ]
  },
  {
   "cell_type": "code",
   "execution_count": null,
   "metadata": {
    "collapsed": true
   },
   "outputs": [],
   "source": [
    "with open(\"possible_moves_history.txt\", \"wb\") as fp:   #Pickling\n",
    "    pickle.dump(model.choosen_move, fp)"
   ]
  },
  {
   "cell_type": "code",
   "execution_count": null,
   "metadata": {
    "collapsed": true
   },
   "outputs": [],
   "source": [
    "pos_mov=map(str,model.possible_moves_history)\n",
    "#chos_mov=map(list,model.choosen_move)"
   ]
  },
  {
   "cell_type": "code",
   "execution_count": null,
   "metadata": {
    "collapsed": true
   },
   "outputs": [],
   "source": [
    "str(model.possible_moves_history)"
   ]
  },
  {
   "cell_type": "code",
   "execution_count": null,
   "metadata": {
    "collapsed": true
   },
   "outputs": [],
   "source": [
    "!pip install tensorflow-gpu"
   ]
  },
  {
   "cell_type": "code",
   "execution_count": null,
   "metadata": {
    "collapsed": true
   },
   "outputs": [],
   "source": []
  }
 ],
 "metadata": {
  "kernelspec": {
   "display_name": "Python 2",
   "language": "python",
   "name": "python2"
  },
  "language_info": {
   "codemirror_mode": {
    "name": "ipython",
    "version": 2
   },
   "file_extension": ".py",
   "mimetype": "text/x-python",
   "name": "python",
   "nbconvert_exporter": "python",
   "pygments_lexer": "ipython2",
   "version": "2.7.13"
  }
 },
 "nbformat": 4,
 "nbformat_minor": 2
}
